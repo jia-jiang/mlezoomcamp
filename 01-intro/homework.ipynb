{
 "cells": [
  {
   "cell_type": "code",
   "execution_count": 31,
   "id": "1b253043-0847-4219-879c-7ca8d5803d6a",
   "metadata": {},
   "outputs": [],
   "source": [
    "# ML-Zoomcamp Homework-1, Jia Jiang"
   ]
  },
  {
   "cell_type": "code",
   "execution_count": 32,
   "id": "7087b88d-ed8f-43c0-b69d-0cef12b5392c",
   "metadata": {},
   "outputs": [
    {
     "name": "stdout",
     "output_type": "stream",
     "text": [
      "\n",
      "First 5 rows:\n",
      "   engine_displacement  num_cylinders  horsepower  vehicle_weight  \\\n",
      "0                  170            3.0       159.0     3413.433759   \n",
      "1                  130            5.0        97.0     3149.664934   \n",
      "2                  170            NaN        78.0     3079.038997   \n",
      "3                  220            4.0         NaN     2542.392402   \n",
      "4                  210            1.0       140.0     3460.870990   \n",
      "\n",
      "   acceleration  model_year  origin fuel_type         drivetrain  num_doors  \\\n",
      "0          17.7        2003  Europe  Gasoline    All-wheel drive        0.0   \n",
      "1          17.8        2007     USA  Gasoline  Front-wheel drive        0.0   \n",
      "2          15.1        2018  Europe  Gasoline  Front-wheel drive        0.0   \n",
      "3          20.2        2009     USA    Diesel    All-wheel drive        2.0   \n",
      "4          14.4        2009  Europe  Gasoline    All-wheel drive        2.0   \n",
      "\n",
      "   fuel_efficiency_mpg  \n",
      "0            13.231729  \n",
      "1            13.688217  \n",
      "2            14.246341  \n",
      "3            16.912736  \n",
      "4            12.488369  \n"
     ]
    }
   ],
   "source": [
    "import os\n",
    "import numpy as np\n",
    "import pandas as pd\n",
    "\n",
    "url = \"https://raw.githubusercontent.com/alexeygrigorev/datasets/master/car_fuel_efficiency.csv\"\n",
    "filename = \"car_fuel_efficiency.csv\"\n",
    "\n",
    "if not os.path.exists(filename):\n",
    "    os.system(f\"wget {url}\")\n",
    "\n",
    "df = pd.read_csv(filename)\n",
    "print(\"\\nFirst 5 rows:\")\n",
    "print(df.head())\n"
   ]
  },
  {
   "cell_type": "code",
   "execution_count": 33,
   "id": "d3e979f9-519a-47a5-b40c-83f6f24f387e",
   "metadata": {},
   "outputs": [
    {
     "data": {
      "text/plain": [
       "'2.3.2'"
      ]
     },
     "execution_count": 33,
     "metadata": {},
     "output_type": "execute_result"
    }
   ],
   "source": [
    "# Q1. Pandas version\n",
    "pd.__version__"
   ]
  },
  {
   "cell_type": "code",
   "execution_count": 34,
   "id": "30a5ef4a-0dfd-4e72-abf2-075457bbc40e",
   "metadata": {},
   "outputs": [
    {
     "name": "stdout",
     "output_type": "stream",
     "text": [
      "Shape of dataset: (9704, 11)\n"
     ]
    }
   ],
   "source": [
    "# Q2. Records count\n",
    "print(\"Shape of dataset:\", df.shape)"
   ]
  },
  {
   "cell_type": "code",
   "execution_count": 35,
   "id": "85c5c17a-251f-4202-90ef-7476c83a09b9",
   "metadata": {},
   "outputs": [
    {
     "name": "stdout",
     "output_type": "stream",
     "text": [
      "fuel_type\n",
      "Gasoline    4898\n",
      "Diesel      4806\n",
      "Name: count, dtype: int64\n"
     ]
    }
   ],
   "source": [
    "# Q3. Fuel types\n",
    "print(df['fuel_type'].value_counts())"
   ]
  },
  {
   "cell_type": "code",
   "execution_count": 36,
   "id": "531a83d2-5301-460b-9931-6450756aebaf",
   "metadata": {},
   "outputs": [
    {
     "name": "stdout",
     "output_type": "stream",
     "text": [
      "\n",
      "Number of columns with missing values: 4\n"
     ]
    }
   ],
   "source": [
    "# Q4. Missing values\n",
    "missing_counts = df.isnull().sum()\n",
    "num_missing_columns = (missing_counts > 0).sum()\n",
    "print(\"\\nNumber of columns with missing values:\", num_missing_columns)"
   ]
  },
  {
   "cell_type": "code",
   "execution_count": 37,
   "id": "1030be6b-1afc-4366-941a-053ab3266318",
   "metadata": {},
   "outputs": [
    {
     "name": "stdout",
     "output_type": "stream",
     "text": [
      "Maximum fuel efficiency (mpg) of cars from Asia: 23.759122836520497\n"
     ]
    }
   ],
   "source": [
    "# Q5. Max fuel efficiency\n",
    "asia_cars = df[df['origin'] == 'Asia']\n",
    "max_efficiency_asia = asia_cars['fuel_efficiency_mpg'].max()\n",
    "print(\"Maximum fuel efficiency (mpg) of cars from Asia:\", max_efficiency_asia)"
   ]
  },
  {
   "cell_type": "code",
   "execution_count": 38,
   "id": "e6dd93f1-15fc-4e45-93da-9a062c3a5c54",
   "metadata": {},
   "outputs": [
    {
     "name": "stdout",
     "output_type": "stream",
     "text": [
      "Median horsepower (before): 149.0\n",
      "Most frequent horsepower value: 152.0\n",
      "Median horsepower (after): 152.0\n"
     ]
    }
   ],
   "source": [
    "# Q6. Median value of horsepower\n",
    "# 1. Median of horsepower\n",
    "median_before = df['horsepower'].median()\n",
    "print(\"Median horsepower (before):\", median_before)\n",
    "# 2. Most frequent of horsepower\n",
    "most_freq = df['horsepower'].mode()[0]\n",
    "print(\"Most frequent horsepower value:\", most_freq)\n",
    "# 3. Fill missing values with the most frequent value\n",
    "df['horsepower'] = df['horsepower'].fillna(most_freq)\n",
    "# 4. Median again after filling\n",
    "median_after = df['horsepower'].median()\n",
    "print(\"Median horsepower (after):\", median_after)"
   ]
  },
  {
   "cell_type": "code",
   "execution_count": 39,
   "id": "17bfb369-246f-470b-97b4-c44e0e5f8cd2",
   "metadata": {},
   "outputs": [
    {
     "name": "stdout",
     "output_type": "stream",
     "text": [
      "Sum of all elements in w: 0.5187709081074007\n"
     ]
    }
   ],
   "source": [
    "# Q7. Sum of weights\n",
    "# Get data\n",
    "asia = df[df[\"origin\"] == \"Asia\"]\n",
    "asia_2c = asia[[\"vehicle_weight\", \"model_year\"]]\n",
    "asia_7r = asia_2c.head(7)\n",
    "# Calculation\n",
    "X = asia_7r.values\n",
    "XTX = X.T @ X\n",
    "XTX_inv = np.linalg.inv(XTX)\n",
    "y = np.array([1100, 1300, 800, 900, 1000, 1100, 1200])\n",
    "w = XTX_inv @ X.T @ y\n",
    "print(\"Sum of all elements in w:\", w.sum())"
   ]
  }
 ],
 "metadata": {
  "kernelspec": {
   "display_name": "Python 3 (ipykernel)",
   "language": "python",
   "name": "python3"
  },
  "language_info": {
   "codemirror_mode": {
    "name": "ipython",
    "version": 3
   },
   "file_extension": ".py",
   "mimetype": "text/x-python",
   "name": "python",
   "nbconvert_exporter": "python",
   "pygments_lexer": "ipython3",
   "version": "3.11.13"
  }
 },
 "nbformat": 4,
 "nbformat_minor": 5
}
